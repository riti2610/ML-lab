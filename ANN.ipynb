{
  "nbformat": 4,
  "nbformat_minor": 0,
  "metadata": {
    "colab": {
      "provenance": []
    },
    "kernelspec": {
      "name": "python3",
      "display_name": "Python 3"
    },
    "language_info": {
      "name": "python"
    }
  },
  "cells": [
    {
      "cell_type": "markdown",
      "source": [
        "Loading the MNIST dataset in Keras"
      ],
      "metadata": {
        "id": "ZuU7noCGBcR5"
      }
    },
    {
      "cell_type": "code",
      "source": [
        "from keras.datasets import mnist\n",
        "(train_images, train_labels), (test_images, test_labels) = mnist.load_data()"
      ],
      "metadata": {
        "colab": {
          "base_uri": "https://localhost:8080/"
        },
        "id": "iYnO4RthBdWh",
        "outputId": "944b86f5-36c6-4e83-8fcb-b2e4076b1ed0"
      },
      "execution_count": 1,
      "outputs": [
        {
          "output_type": "stream",
          "name": "stdout",
          "text": [
            "Downloading data from https://storage.googleapis.com/tensorflow/tf-keras-datasets/mnist.npz\n",
            "11490434/11490434 [==============================] - 0s 0us/step\n"
          ]
        }
      ]
    },
    {
      "cell_type": "code",
      "source": [
        "train_images.shape\n",
        "len(train_labels)\n",
        "train_labels\n",
        "test_images.shape\n",
        "len(test_labels)\n",
        "test_labels"
      ],
      "metadata": {
        "colab": {
          "base_uri": "https://localhost:8080/"
        },
        "id": "q8dcpmOMBq0v",
        "outputId": "972e6347-6464-444f-c415-b388230053c4"
      },
      "execution_count": 2,
      "outputs": [
        {
          "output_type": "execute_result",
          "data": {
            "text/plain": [
              "array([7, 2, 1, ..., 4, 5, 6], dtype=uint8)"
            ]
          },
          "metadata": {},
          "execution_count": 2
        }
      ]
    },
    {
      "cell_type": "markdown",
      "source": [
        "The network architecture"
      ],
      "metadata": {
        "id": "YmToqrF0BwKU"
      }
    },
    {
      "cell_type": "code",
      "source": [
        "from keras import models\n",
        "from keras import layers\n",
        "network = models.Sequential()\n",
        "# Dense(32) is a fully-connected layer with 32 hidden units.\n",
        "# in the first layer, you must specify the expected input data shape :\n",
        "# here, 28 X 28=784 -dimensional vectors.\n",
        "network.add(layers.Dense(32, activation='sigmoid', input_shape=(28 * 28, )))\n",
        "network.add(layers.Dense(8, activation='sigmoid'))\n",
        "network.add(layers.Dense(10, activation='softmax'))\n",
        "network.summary()\n",
        "from google.colab import drive\n",
        "drive.mount('/content/drive')"
      ],
      "metadata": {
        "colab": {
          "base_uri": "https://localhost:8080/"
        },
        "id": "Ca_AdsCRBxhy",
        "outputId": "5d65e0be-0b53-4a4f-abf7-c2f61bb990d2"
      },
      "execution_count": 4,
      "outputs": [
        {
          "output_type": "stream",
          "name": "stdout",
          "text": [
            "Model: \"sequential_1\"\n",
            "_________________________________________________________________\n",
            " Layer (type)                Output Shape              Param #   \n",
            "=================================================================\n",
            " dense_3 (Dense)             (None, 32)                25120     \n",
            "                                                                 \n",
            " dense_4 (Dense)             (None, 8)                 264       \n",
            "                                                                 \n",
            " dense_5 (Dense)             (None, 10)                90        \n",
            "                                                                 \n",
            "=================================================================\n",
            "Total params: 25474 (99.51 KB)\n",
            "Trainable params: 25474 (99.51 KB)\n",
            "Non-trainable params: 0 (0.00 Byte)\n",
            "_________________________________________________________________\n",
            "Mounted at /content/drive\n"
          ]
        }
      ]
    },
    {
      "cell_type": "markdown",
      "source": [
        "The compilation step"
      ],
      "metadata": {
        "id": "8cUyUjiYCL0C"
      }
    },
    {
      "cell_type": "code",
      "source": [
        "network.compile(optimizer='sgd',\n",
        "                loss='categorical_crossentropy',\n",
        "                metrics=['accuracy'])"
      ],
      "metadata": {
        "id": "pOad7VyRCMk_"
      },
      "execution_count": 5,
      "outputs": []
    },
    {
      "cell_type": "markdown",
      "source": [
        "Preparing the image data"
      ],
      "metadata": {
        "id": "swSUeycJCdhw"
      }
    },
    {
      "cell_type": "code",
      "source": [
        "train_images = train_images.reshape((60000, 28 * 28))\n",
        "train_images = train_images.astype('float32') / 255.\n",
        "test_images = test_images.reshape((10000, 28 * 28))\n",
        "test_images = test_images.astype('float32') / 255."
      ],
      "metadata": {
        "id": "e363110xCfbi"
      },
      "execution_count": 6,
      "outputs": []
    },
    {
      "cell_type": "markdown",
      "source": [
        "Preparing the labels"
      ],
      "metadata": {
        "id": "sP1-NP-CCm7I"
      }
    },
    {
      "cell_type": "code",
      "source": [
        "from keras.utils import to_categorical\n",
        "train_labels = to_categorical(train_labels)\n",
        "train_labels\n",
        "test_labels = to_categorical(test_labels)\n",
        "test_labels\n"
      ],
      "metadata": {
        "colab": {
          "base_uri": "https://localhost:8080/"
        },
        "id": "AaF5z1e4Cnvu",
        "outputId": "e8f4c154-7be1-4f1d-c1a9-20c8c98e66e9"
      },
      "execution_count": 7,
      "outputs": [
        {
          "output_type": "execute_result",
          "data": {
            "text/plain": [
              "array([[0., 0., 0., ..., 1., 0., 0.],\n",
              "       [0., 0., 1., ..., 0., 0., 0.],\n",
              "       [0., 1., 0., ..., 0., 0., 0.],\n",
              "       ...,\n",
              "       [0., 0., 0., ..., 0., 0., 0.],\n",
              "       [0., 0., 0., ..., 0., 0., 0.],\n",
              "       [0., 0., 0., ..., 0., 0., 0.]], dtype=float32)"
            ]
          },
          "metadata": {},
          "execution_count": 7
        }
      ]
    },
    {
      "cell_type": "markdown",
      "source": [
        "Training and Testing"
      ],
      "metadata": {
        "id": "ZhhKa9Y3Czns"
      }
    },
    {
      "cell_type": "code",
      "source": [
        "network.fit(train_images, train_labels, epochs=160, batch_size=512)"
      ],
      "metadata": {
        "colab": {
          "base_uri": "https://localhost:8080/"
        },
        "id": "eZi6lf5FC0e8",
        "outputId": "05b4e525-4ab3-47bf-e6cf-b376a6bdf839"
      },
      "execution_count": 8,
      "outputs": [
        {
          "output_type": "stream",
          "name": "stdout",
          "text": [
            "Epoch 1/160\n",
            "118/118 [==============================] - 1s 5ms/step - loss: 2.3389 - accuracy: 0.1022\n",
            "Epoch 2/160\n",
            "118/118 [==============================] - 1s 5ms/step - loss: 2.3123 - accuracy: 0.1065\n",
            "Epoch 3/160\n",
            "118/118 [==============================] - 1s 5ms/step - loss: 2.2989 - accuracy: 0.1189\n",
            "Epoch 4/160\n",
            "118/118 [==============================] - 1s 5ms/step - loss: 2.2907 - accuracy: 0.1853\n",
            "Epoch 5/160\n",
            "118/118 [==============================] - 1s 5ms/step - loss: 2.2845 - accuracy: 0.2170\n",
            "Epoch 6/160\n",
            "118/118 [==============================] - 1s 5ms/step - loss: 2.2791 - accuracy: 0.2050\n",
            "Epoch 7/160\n",
            "118/118 [==============================] - 1s 4ms/step - loss: 2.2740 - accuracy: 0.2186\n",
            "Epoch 8/160\n",
            "118/118 [==============================] - 1s 5ms/step - loss: 2.2688 - accuracy: 0.2357\n",
            "Epoch 9/160\n",
            "118/118 [==============================] - 1s 5ms/step - loss: 2.2635 - accuracy: 0.2460\n",
            "Epoch 10/160\n",
            "118/118 [==============================] - 1s 4ms/step - loss: 2.2579 - accuracy: 0.2834\n",
            "Epoch 11/160\n",
            "118/118 [==============================] - 1s 5ms/step - loss: 2.2521 - accuracy: 0.3132\n",
            "Epoch 12/160\n",
            "118/118 [==============================] - 1s 5ms/step - loss: 2.2459 - accuracy: 0.3359\n",
            "Epoch 13/160\n",
            "118/118 [==============================] - 1s 5ms/step - loss: 2.2393 - accuracy: 0.3561\n",
            "Epoch 14/160\n",
            "118/118 [==============================] - 1s 5ms/step - loss: 2.2323 - accuracy: 0.3714\n",
            "Epoch 15/160\n",
            "118/118 [==============================] - 1s 6ms/step - loss: 2.2248 - accuracy: 0.3826\n",
            "Epoch 16/160\n",
            "118/118 [==============================] - 1s 7ms/step - loss: 2.2168 - accuracy: 0.3961\n",
            "Epoch 17/160\n",
            "118/118 [==============================] - 1s 7ms/step - loss: 2.2082 - accuracy: 0.4044\n",
            "Epoch 18/160\n",
            "118/118 [==============================] - 1s 7ms/step - loss: 2.1991 - accuracy: 0.4116\n",
            "Epoch 19/160\n",
            "118/118 [==============================] - 1s 7ms/step - loss: 2.1892 - accuracy: 0.4160\n",
            "Epoch 20/160\n",
            "118/118 [==============================] - 1s 6ms/step - loss: 2.1787 - accuracy: 0.4246\n",
            "Epoch 21/160\n",
            "118/118 [==============================] - 1s 5ms/step - loss: 2.1675 - accuracy: 0.4286\n",
            "Epoch 22/160\n",
            "118/118 [==============================] - 1s 4ms/step - loss: 2.1555 - accuracy: 0.4337\n",
            "Epoch 23/160\n",
            "118/118 [==============================] - 1s 5ms/step - loss: 2.1427 - accuracy: 0.4370\n",
            "Epoch 24/160\n",
            "118/118 [==============================] - 0s 4ms/step - loss: 2.1291 - accuracy: 0.4417\n",
            "Epoch 25/160\n",
            "118/118 [==============================] - 1s 5ms/step - loss: 2.1146 - accuracy: 0.4446\n",
            "Epoch 26/160\n",
            "118/118 [==============================] - 1s 4ms/step - loss: 2.0993 - accuracy: 0.4473\n",
            "Epoch 27/160\n",
            "118/118 [==============================] - 1s 5ms/step - loss: 2.0831 - accuracy: 0.4510\n",
            "Epoch 28/160\n",
            "118/118 [==============================] - 1s 4ms/step - loss: 2.0661 - accuracy: 0.4545\n",
            "Epoch 29/160\n",
            "118/118 [==============================] - 1s 4ms/step - loss: 2.0482 - accuracy: 0.4588\n",
            "Epoch 30/160\n",
            "118/118 [==============================] - 1s 4ms/step - loss: 2.0295 - accuracy: 0.4624\n",
            "Epoch 31/160\n",
            "118/118 [==============================] - 1s 5ms/step - loss: 2.0101 - accuracy: 0.4657\n",
            "Epoch 32/160\n",
            "118/118 [==============================] - 1s 4ms/step - loss: 1.9900 - accuracy: 0.4687\n",
            "Epoch 33/160\n",
            "118/118 [==============================] - 1s 5ms/step - loss: 1.9693 - accuracy: 0.4737\n",
            "Epoch 34/160\n",
            "118/118 [==============================] - 1s 5ms/step - loss: 1.9481 - accuracy: 0.4758\n",
            "Epoch 35/160\n",
            "118/118 [==============================] - 1s 5ms/step - loss: 1.9265 - accuracy: 0.4816\n",
            "Epoch 36/160\n",
            "118/118 [==============================] - 1s 5ms/step - loss: 1.9046 - accuracy: 0.4844\n",
            "Epoch 37/160\n",
            "118/118 [==============================] - 1s 5ms/step - loss: 1.8824 - accuracy: 0.4899\n",
            "Epoch 38/160\n",
            "118/118 [==============================] - 1s 5ms/step - loss: 1.8601 - accuracy: 0.4961\n",
            "Epoch 39/160\n",
            "118/118 [==============================] - 1s 6ms/step - loss: 1.8377 - accuracy: 0.4996\n",
            "Epoch 40/160\n",
            "118/118 [==============================] - 1s 7ms/step - loss: 1.8154 - accuracy: 0.5052\n",
            "Epoch 41/160\n",
            "118/118 [==============================] - 1s 7ms/step - loss: 1.7932 - accuracy: 0.5112\n",
            "Epoch 42/160\n",
            "118/118 [==============================] - 1s 7ms/step - loss: 1.7711 - accuracy: 0.5173\n",
            "Epoch 43/160\n",
            "118/118 [==============================] - 1s 7ms/step - loss: 1.7492 - accuracy: 0.5240\n",
            "Epoch 44/160\n",
            "118/118 [==============================] - 1s 6ms/step - loss: 1.7276 - accuracy: 0.5285\n",
            "Epoch 45/160\n",
            "118/118 [==============================] - 1s 4ms/step - loss: 1.7063 - accuracy: 0.5329\n",
            "Epoch 46/160\n",
            "118/118 [==============================] - 1s 4ms/step - loss: 1.6852 - accuracy: 0.5405\n",
            "Epoch 47/160\n",
            "118/118 [==============================] - 1s 4ms/step - loss: 1.6645 - accuracy: 0.5463\n",
            "Epoch 48/160\n",
            "118/118 [==============================] - 1s 5ms/step - loss: 1.6441 - accuracy: 0.5520\n",
            "Epoch 49/160\n",
            "118/118 [==============================] - 1s 5ms/step - loss: 1.6240 - accuracy: 0.5601\n",
            "Epoch 50/160\n",
            "118/118 [==============================] - 1s 5ms/step - loss: 1.6042 - accuracy: 0.5657\n",
            "Epoch 51/160\n",
            "118/118 [==============================] - 1s 5ms/step - loss: 1.5848 - accuracy: 0.5730\n",
            "Epoch 52/160\n",
            "118/118 [==============================] - 1s 4ms/step - loss: 1.5656 - accuracy: 0.5797\n",
            "Epoch 53/160\n",
            "118/118 [==============================] - 1s 5ms/step - loss: 1.5468 - accuracy: 0.5868\n",
            "Epoch 54/160\n",
            "118/118 [==============================] - 1s 5ms/step - loss: 1.5283 - accuracy: 0.5935\n",
            "Epoch 55/160\n",
            "118/118 [==============================] - 1s 5ms/step - loss: 1.5100 - accuracy: 0.5993\n",
            "Epoch 56/160\n",
            "118/118 [==============================] - 1s 5ms/step - loss: 1.4921 - accuracy: 0.6045\n",
            "Epoch 57/160\n",
            "118/118 [==============================] - 1s 4ms/step - loss: 1.4745 - accuracy: 0.6108\n",
            "Epoch 58/160\n",
            "118/118 [==============================] - 1s 5ms/step - loss: 1.4571 - accuracy: 0.6159\n",
            "Epoch 59/160\n",
            "118/118 [==============================] - 1s 5ms/step - loss: 1.4400 - accuracy: 0.6237\n",
            "Epoch 60/160\n",
            "118/118 [==============================] - 1s 5ms/step - loss: 1.4232 - accuracy: 0.6284\n",
            "Epoch 61/160\n",
            "118/118 [==============================] - 1s 4ms/step - loss: 1.4067 - accuracy: 0.6336\n",
            "Epoch 62/160\n",
            "118/118 [==============================] - 1s 5ms/step - loss: 1.3905 - accuracy: 0.6387\n",
            "Epoch 63/160\n",
            "118/118 [==============================] - 1s 7ms/step - loss: 1.3745 - accuracy: 0.6438\n",
            "Epoch 64/160\n",
            "118/118 [==============================] - 1s 7ms/step - loss: 1.3588 - accuracy: 0.6489\n",
            "Epoch 65/160\n",
            "118/118 [==============================] - 1s 7ms/step - loss: 1.3434 - accuracy: 0.6543\n",
            "Epoch 66/160\n",
            "118/118 [==============================] - 1s 7ms/step - loss: 1.3281 - accuracy: 0.6585\n",
            "Epoch 67/160\n",
            "118/118 [==============================] - 1s 7ms/step - loss: 1.3132 - accuracy: 0.6629\n",
            "Epoch 68/160\n",
            "118/118 [==============================] - 1s 6ms/step - loss: 1.2984 - accuracy: 0.6673\n",
            "Epoch 69/160\n",
            "118/118 [==============================] - 1s 5ms/step - loss: 1.2839 - accuracy: 0.6726\n",
            "Epoch 70/160\n",
            "118/118 [==============================] - 1s 4ms/step - loss: 1.2696 - accuracy: 0.6763\n",
            "Epoch 71/160\n",
            "118/118 [==============================] - 1s 5ms/step - loss: 1.2556 - accuracy: 0.6804\n",
            "Epoch 72/160\n",
            "118/118 [==============================] - 1s 4ms/step - loss: 1.2417 - accuracy: 0.6839\n",
            "Epoch 73/160\n",
            "118/118 [==============================] - 1s 5ms/step - loss: 1.2280 - accuracy: 0.6882\n",
            "Epoch 74/160\n",
            "118/118 [==============================] - 1s 5ms/step - loss: 1.2145 - accuracy: 0.6917\n",
            "Epoch 75/160\n",
            "118/118 [==============================] - 1s 5ms/step - loss: 1.2013 - accuracy: 0.6947\n",
            "Epoch 76/160\n",
            "118/118 [==============================] - 1s 5ms/step - loss: 1.1881 - accuracy: 0.6987\n",
            "Epoch 77/160\n",
            "118/118 [==============================] - 1s 5ms/step - loss: 1.1752 - accuracy: 0.7027\n",
            "Epoch 78/160\n",
            "118/118 [==============================] - 1s 5ms/step - loss: 1.1625 - accuracy: 0.7054\n",
            "Epoch 79/160\n",
            "118/118 [==============================] - 1s 4ms/step - loss: 1.1499 - accuracy: 0.7091\n",
            "Epoch 80/160\n",
            "118/118 [==============================] - 1s 5ms/step - loss: 1.1375 - accuracy: 0.7122\n",
            "Epoch 81/160\n",
            "118/118 [==============================] - 1s 5ms/step - loss: 1.1253 - accuracy: 0.7159\n",
            "Epoch 82/160\n",
            "118/118 [==============================] - 1s 5ms/step - loss: 1.1133 - accuracy: 0.7196\n",
            "Epoch 83/160\n",
            "118/118 [==============================] - 1s 5ms/step - loss: 1.1014 - accuracy: 0.7226\n",
            "Epoch 84/160\n",
            "118/118 [==============================] - 1s 5ms/step - loss: 1.0897 - accuracy: 0.7267\n",
            "Epoch 85/160\n",
            "118/118 [==============================] - 1s 5ms/step - loss: 1.0782 - accuracy: 0.7289\n",
            "Epoch 86/160\n",
            "118/118 [==============================] - 1s 5ms/step - loss: 1.0669 - accuracy: 0.7314\n",
            "Epoch 87/160\n",
            "118/118 [==============================] - 1s 7ms/step - loss: 1.0557 - accuracy: 0.7344\n",
            "Epoch 88/160\n",
            "118/118 [==============================] - 1s 7ms/step - loss: 1.0448 - accuracy: 0.7375\n",
            "Epoch 89/160\n",
            "118/118 [==============================] - 1s 7ms/step - loss: 1.0340 - accuracy: 0.7406\n",
            "Epoch 90/160\n",
            "118/118 [==============================] - 1s 7ms/step - loss: 1.0234 - accuracy: 0.7430\n",
            "Epoch 91/160\n",
            "118/118 [==============================] - 1s 7ms/step - loss: 1.0130 - accuracy: 0.7456\n",
            "Epoch 92/160\n",
            "118/118 [==============================] - 1s 5ms/step - loss: 1.0028 - accuracy: 0.7483\n",
            "Epoch 93/160\n",
            "118/118 [==============================] - 1s 4ms/step - loss: 0.9928 - accuracy: 0.7507\n",
            "Epoch 94/160\n",
            "118/118 [==============================] - 1s 5ms/step - loss: 0.9829 - accuracy: 0.7534\n",
            "Epoch 95/160\n",
            "118/118 [==============================] - 1s 5ms/step - loss: 0.9733 - accuracy: 0.7556\n",
            "Epoch 96/160\n",
            "118/118 [==============================] - 1s 4ms/step - loss: 0.9638 - accuracy: 0.7573\n",
            "Epoch 97/160\n",
            "118/118 [==============================] - 1s 5ms/step - loss: 0.9546 - accuracy: 0.7600\n",
            "Epoch 98/160\n",
            "118/118 [==============================] - 1s 4ms/step - loss: 0.9455 - accuracy: 0.7621\n",
            "Epoch 99/160\n",
            "118/118 [==============================] - 1s 5ms/step - loss: 0.9366 - accuracy: 0.7643\n",
            "Epoch 100/160\n",
            "118/118 [==============================] - 1s 5ms/step - loss: 0.9279 - accuracy: 0.7666\n",
            "Epoch 101/160\n",
            "118/118 [==============================] - 1s 4ms/step - loss: 0.9194 - accuracy: 0.7686\n",
            "Epoch 102/160\n",
            "118/118 [==============================] - 1s 5ms/step - loss: 0.9110 - accuracy: 0.7708\n",
            "Epoch 103/160\n",
            "118/118 [==============================] - 1s 5ms/step - loss: 0.9029 - accuracy: 0.7727\n",
            "Epoch 104/160\n",
            "118/118 [==============================] - 1s 5ms/step - loss: 0.8949 - accuracy: 0.7744\n",
            "Epoch 105/160\n",
            "118/118 [==============================] - 1s 5ms/step - loss: 0.8870 - accuracy: 0.7758\n",
            "Epoch 106/160\n",
            "118/118 [==============================] - 1s 5ms/step - loss: 0.8794 - accuracy: 0.7780\n",
            "Epoch 107/160\n",
            "118/118 [==============================] - 1s 4ms/step - loss: 0.8719 - accuracy: 0.7802\n",
            "Epoch 108/160\n",
            "118/118 [==============================] - 1s 5ms/step - loss: 0.8645 - accuracy: 0.7821\n",
            "Epoch 109/160\n",
            "118/118 [==============================] - 1s 4ms/step - loss: 0.8573 - accuracy: 0.7838\n",
            "Epoch 110/160\n",
            "118/118 [==============================] - 1s 6ms/step - loss: 0.8503 - accuracy: 0.7853\n",
            "Epoch 111/160\n",
            "118/118 [==============================] - 1s 7ms/step - loss: 0.8433 - accuracy: 0.7870\n",
            "Epoch 112/160\n",
            "118/118 [==============================] - 1s 7ms/step - loss: 0.8366 - accuracy: 0.7884\n",
            "Epoch 113/160\n",
            "118/118 [==============================] - 1s 7ms/step - loss: 0.8299 - accuracy: 0.7899\n",
            "Epoch 114/160\n",
            "118/118 [==============================] - 1s 7ms/step - loss: 0.8234 - accuracy: 0.7918\n",
            "Epoch 115/160\n",
            "118/118 [==============================] - 1s 7ms/step - loss: 0.8170 - accuracy: 0.7933\n",
            "Epoch 116/160\n",
            "118/118 [==============================] - 1s 6ms/step - loss: 0.8108 - accuracy: 0.7948\n",
            "Epoch 117/160\n",
            "118/118 [==============================] - 1s 4ms/step - loss: 0.8047 - accuracy: 0.7969\n",
            "Epoch 118/160\n",
            "118/118 [==============================] - 1s 5ms/step - loss: 0.7986 - accuracy: 0.7981\n",
            "Epoch 119/160\n",
            "118/118 [==============================] - 1s 4ms/step - loss: 0.7927 - accuracy: 0.8000\n",
            "Epoch 120/160\n",
            "118/118 [==============================] - 1s 5ms/step - loss: 0.7869 - accuracy: 0.8014\n",
            "Epoch 121/160\n",
            "118/118 [==============================] - 1s 5ms/step - loss: 0.7812 - accuracy: 0.8026\n",
            "Epoch 122/160\n",
            "118/118 [==============================] - 1s 4ms/step - loss: 0.7756 - accuracy: 0.8037\n",
            "Epoch 123/160\n",
            "118/118 [==============================] - 1s 4ms/step - loss: 0.7701 - accuracy: 0.8054\n",
            "Epoch 124/160\n",
            "118/118 [==============================] - 1s 4ms/step - loss: 0.7647 - accuracy: 0.8068\n",
            "Epoch 125/160\n",
            "118/118 [==============================] - 1s 4ms/step - loss: 0.7594 - accuracy: 0.8085\n",
            "Epoch 126/160\n",
            "118/118 [==============================] - 1s 5ms/step - loss: 0.7542 - accuracy: 0.8100\n",
            "Epoch 127/160\n",
            "118/118 [==============================] - 1s 4ms/step - loss: 0.7490 - accuracy: 0.8114\n",
            "Epoch 128/160\n",
            "118/118 [==============================] - 1s 4ms/step - loss: 0.7440 - accuracy: 0.8127\n",
            "Epoch 129/160\n",
            "118/118 [==============================] - 1s 5ms/step - loss: 0.7390 - accuracy: 0.8137\n",
            "Epoch 130/160\n",
            "118/118 [==============================] - 1s 5ms/step - loss: 0.7341 - accuracy: 0.8151\n",
            "Epoch 131/160\n",
            "118/118 [==============================] - 1s 4ms/step - loss: 0.7293 - accuracy: 0.8163\n",
            "Epoch 132/160\n",
            "118/118 [==============================] - 1s 4ms/step - loss: 0.7245 - accuracy: 0.8176\n",
            "Epoch 133/160\n",
            "118/118 [==============================] - 1s 4ms/step - loss: 0.7199 - accuracy: 0.8188\n",
            "Epoch 134/160\n",
            "118/118 [==============================] - 1s 5ms/step - loss: 0.7153 - accuracy: 0.8201\n",
            "Epoch 135/160\n",
            "118/118 [==============================] - 1s 7ms/step - loss: 0.7107 - accuracy: 0.8215\n",
            "Epoch 136/160\n",
            "118/118 [==============================] - 1s 7ms/step - loss: 0.7063 - accuracy: 0.8225\n",
            "Epoch 137/160\n",
            "118/118 [==============================] - 1s 9ms/step - loss: 0.7019 - accuracy: 0.8236\n",
            "Epoch 138/160\n",
            "118/118 [==============================] - 1s 10ms/step - loss: 0.6976 - accuracy: 0.8249\n",
            "Epoch 139/160\n",
            "118/118 [==============================] - 1s 6ms/step - loss: 0.6933 - accuracy: 0.8258\n",
            "Epoch 140/160\n",
            "118/118 [==============================] - 1s 5ms/step - loss: 0.6891 - accuracy: 0.8269\n",
            "Epoch 141/160\n",
            "118/118 [==============================] - 1s 4ms/step - loss: 0.6849 - accuracy: 0.8281\n",
            "Epoch 142/160\n",
            "118/118 [==============================] - 1s 5ms/step - loss: 0.6808 - accuracy: 0.8292\n",
            "Epoch 143/160\n",
            "118/118 [==============================] - 1s 4ms/step - loss: 0.6768 - accuracy: 0.8301\n",
            "Epoch 144/160\n",
            "118/118 [==============================] - 1s 5ms/step - loss: 0.6728 - accuracy: 0.8310\n",
            "Epoch 145/160\n",
            "118/118 [==============================] - 1s 5ms/step - loss: 0.6689 - accuracy: 0.8319\n",
            "Epoch 146/160\n",
            "118/118 [==============================] - 1s 5ms/step - loss: 0.6650 - accuracy: 0.8332\n",
            "Epoch 147/160\n",
            "118/118 [==============================] - 1s 5ms/step - loss: 0.6612 - accuracy: 0.8341\n",
            "Epoch 148/160\n",
            "118/118 [==============================] - 1s 5ms/step - loss: 0.6574 - accuracy: 0.8349\n",
            "Epoch 149/160\n",
            "118/118 [==============================] - 1s 5ms/step - loss: 0.6537 - accuracy: 0.8357\n",
            "Epoch 150/160\n",
            "118/118 [==============================] - 1s 4ms/step - loss: 0.6500 - accuracy: 0.8368\n",
            "Epoch 151/160\n",
            "118/118 [==============================] - 1s 5ms/step - loss: 0.6464 - accuracy: 0.8379\n",
            "Epoch 152/160\n",
            "118/118 [==============================] - 1s 4ms/step - loss: 0.6429 - accuracy: 0.8389\n",
            "Epoch 153/160\n",
            "118/118 [==============================] - 1s 5ms/step - loss: 0.6393 - accuracy: 0.8396\n",
            "Epoch 154/160\n",
            "118/118 [==============================] - 1s 4ms/step - loss: 0.6359 - accuracy: 0.8407\n",
            "Epoch 155/160\n",
            "118/118 [==============================] - 1s 5ms/step - loss: 0.6324 - accuracy: 0.8413\n",
            "Epoch 156/160\n",
            "118/118 [==============================] - 1s 4ms/step - loss: 0.6291 - accuracy: 0.8421\n",
            "Epoch 157/160\n",
            "118/118 [==============================] - 1s 5ms/step - loss: 0.6257 - accuracy: 0.8431\n",
            "Epoch 158/160\n",
            "118/118 [==============================] - 1s 7ms/step - loss: 0.6224 - accuracy: 0.8438\n",
            "Epoch 159/160\n",
            "118/118 [==============================] - 1s 7ms/step - loss: 0.6192 - accuracy: 0.8447\n",
            "Epoch 160/160\n",
            "118/118 [==============================] - 1s 7ms/step - loss: 0.6160 - accuracy: 0.8456\n"
          ]
        },
        {
          "output_type": "execute_result",
          "data": {
            "text/plain": [
              "<keras.src.callbacks.History at 0x7f1b24f2b400>"
            ]
          },
          "metadata": {},
          "execution_count": 8
        }
      ]
    },
    {
      "cell_type": "code",
      "source": [
        "test_loss, test_acc = network.evaluate(test_images, test_labels)\n",
        "print('Test Accuracy: {:.5f} '.format(test_acc))\n",
        "test_acc"
      ],
      "metadata": {
        "colab": {
          "base_uri": "https://localhost:8080/"
        },
        "id": "4NBUfPNLDhvj",
        "outputId": "df592a78-11e0-4839-aed4-337d3faeb12f"
      },
      "execution_count": 9,
      "outputs": [
        {
          "output_type": "stream",
          "name": "stdout",
          "text": [
            "313/313 [==============================] - 1s 2ms/step - loss: 0.5995 - accuracy: 0.8529\n",
            "Test Accuracy: 0.85290 \n"
          ]
        },
        {
          "output_type": "execute_result",
          "data": {
            "text/plain": [
              "0.8529000282287598"
            ]
          },
          "metadata": {},
          "execution_count": 9
        }
      ]
    },
    {
      "cell_type": "code",
      "source": [
        "from keras.utils import plot_model\n",
        "plot_model(network, to_file='model.png')\n",
        "import matplotlib.pyplot as plt\n",
        "history =network.fit(train_images, train_labels, validation_split=0.33,epochs=5, batch_size=512)\n",
        "history_dict = history.history\n",
        "print(history_dict.keys())\n",
        "plt.plot(history.history['accuracy'])\n",
        "plt.plot(history.history['val_accuracy'])\n",
        "plt.title('Model accuracy')\n",
        "plt.ylabel('Accuracy')\n",
        "plt.xlabel('Epoch')\n",
        "plt.legend(['Train', 'Test'], loc='upper left')\n",
        "plt.show()\n",
        "\n",
        "\n",
        "# Plot training & validation loss values\n",
        "plt.plot(history.history['loss'])\n",
        "plt.plot(history.history['val_loss'])\n",
        "plt.title('Model loss')\n",
        "plt.ylabel('Loss')\n",
        "plt.xlabel('Epoch')\n",
        "plt.legend(['Train', 'Test'], loc='upper left')\n",
        "plt.show()"
      ],
      "metadata": {
        "colab": {
          "base_uri": "https://localhost:8080/",
          "height": 1000
        },
        "id": "mAFvwWE2DoZe",
        "outputId": "35cee799-e305-42b3-9975-0c39f317bafd"
      },
      "execution_count": 10,
      "outputs": [
        {
          "output_type": "stream",
          "name": "stdout",
          "text": [
            "Epoch 1/5\n",
            "79/79 [==============================] - 1s 13ms/step - loss: 0.6165 - accuracy: 0.8446 - val_loss: 0.6059 - val_accuracy: 0.8493\n",
            "Epoch 2/5\n",
            "79/79 [==============================] - 1s 12ms/step - loss: 0.6143 - accuracy: 0.8451 - val_loss: 0.6039 - val_accuracy: 0.8500\n",
            "Epoch 3/5\n",
            "79/79 [==============================] - 1s 12ms/step - loss: 0.6122 - accuracy: 0.8457 - val_loss: 0.6019 - val_accuracy: 0.8504\n",
            "Epoch 4/5\n",
            "79/79 [==============================] - 1s 11ms/step - loss: 0.6100 - accuracy: 0.8465 - val_loss: 0.5999 - val_accuracy: 0.8508\n",
            "Epoch 5/5\n",
            "79/79 [==============================] - 1s 13ms/step - loss: 0.6080 - accuracy: 0.8467 - val_loss: 0.5980 - val_accuracy: 0.8512\n",
            "dict_keys(['loss', 'accuracy', 'val_loss', 'val_accuracy'])\n"
          ]
        },
        {
          "output_type": "display_data",
          "data": {
            "text/plain": [
              "<Figure size 640x480 with 1 Axes>"
            ],
            "image/png": "[encoded data removed]"
          },
          "metadata": {}
        },
        {
          "output_type": "display_data",
          "data": {
            "text/plain": [
              "<Figure size 640x480 with 1 Axes>"
            ],
            "image/png": "[encoded data removed]"
          },
          "metadata": {}
        }
      ]
    }
  ]
}