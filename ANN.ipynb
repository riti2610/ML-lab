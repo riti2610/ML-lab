{
  "nbformat": 4,
  "nbformat_minor": 0,
  "metadata": {
    "colab": {
      "provenance": [],
      "authorship_tag": "ABX9TyN8YD3lYm2YNzITvJuNY0+x",
      "include_colab_link": true
    },
    "kernelspec": {
      "name": "python3",
      "display_name": "Python 3"
    },
    "language_info": {
      "name": "python"
    }
  },
  "cells": [
    {
      "cell_type": "markdown",
      "metadata": {
        "id": "view-in-github",
        "colab_type": "text"
      },
      "source": [
        "<a href=\"https://colab.research.google.com/github/riti2610/ML-lab/blob/main/ANN.ipynb\" target=\"_parent\"><img src=\"https://colab.research.google.com/assets/colab-badge.svg\" alt=\"Open In Colab\"/></a>"
      ]
    },
    {
      "cell_type": "markdown",
      "source": [
        "Loading the MNIST dataset in Keras"
      ],
      "metadata": {
        "id": "ZuU7noCGBcR5"
      }
    },
    {
      "cell_type": "code",
      "source": [
        "from keras.datasets import mnist\n",
        "(train_images, train_labels), (test_images, test_labels) = mnist.load_data()"
      ],
      "metadata": {
        "colab": {
          "base_uri": "https://localhost:8080/"
        },
        "id": "iYnO4RthBdWh",
        "outputId": "c8f049d5-3e65-4b9b-d99e-f189d551e5c7"
      },
      "execution_count": 1,
      "outputs": [
        {
          "output_type": "stream",
          "name": "stdout",
          "text": [
            "Downloading data from https://storage.googleapis.com/tensorflow/tf-keras-datasets/mnist.npz\n",
            "11490434/11490434 [==============================] - 0s 0us/step\n"
          ]
        }
      ]
    },
    {
      "cell_type": "code",
      "source": [
        "train_images.shape\n",
        "len(train_labels)\n",
        "train_labels\n",
        "test_images.shape\n",
        "len(test_labels)\n",
        "test_labels"
      ],
      "metadata": {
        "colab": {
          "base_uri": "https://localhost:8080/"
        },
        "id": "q8dcpmOMBq0v",
        "outputId": "e62f92b0-2a8d-46c5-95cd-ca8bbe0c1569"
      },
      "execution_count": 2,
      "outputs": [
        {
          "output_type": "execute_result",
          "data": {
            "text/plain": [
              "array([7, 2, 1, ..., 4, 5, 6], dtype=uint8)"
            ]
          },
          "metadata": {},
          "execution_count": 2
        }
      ]
    },
    {
      "cell_type": "markdown",
      "source": [
        "The network architecture"
      ],
      "metadata": {
        "id": "YmToqrF0BwKU"
      }
    },
    {
      "cell_type": "code",
      "source": [
        "from keras import models\n",
        "from keras import layers\n",
        "network = models.Sequential()\n",
        "# Dense(32) is a fully-connected layer with 32 hidden units.\n",
        "# in the first layer, you must specify the expected input data shape :\n",
        "# here, 28 X 28=784 -dimensional vectors.\n",
        "network.add(layers.Dense(32, activation='sigmoid', input_shape=(28 * 28, )))\n",
        "network.add(layers.Dense(8, activation='sigmoid'))\n",
        "network.add(layers.Dense(10, activation='softmax'))\n",
        "network.summary()\n",
        "from google.colab import drive\n",
        "drive.mount('/content/drive')"
      ],
      "metadata": {
        "colab": {
          "base_uri": "https://localhost:8080/"
        },
        "id": "Ca_AdsCRBxhy",
        "outputId": "92b90421-68ec-4877-e3bb-2c5dc8338646"
      },
      "execution_count": 4,
      "outputs": [
        {
          "output_type": "stream",
          "name": "stdout",
          "text": [
            "Model: \"sequential_1\"\n",
            "_________________________________________________________________\n",
            " Layer (type)                Output Shape              Param #   \n",
            "=================================================================\n",
            " dense_3 (Dense)             (None, 32)                25120     \n",
            "                                                                 \n",
            " dense_4 (Dense)             (None, 8)                 264       \n",
            "                                                                 \n",
            " dense_5 (Dense)             (None, 10)                90        \n",
            "                                                                 \n",
            "=================================================================\n",
            "Total params: 25474 (99.51 KB)\n",
            "Trainable params: 25474 (99.51 KB)\n",
            "Non-trainable params: 0 (0.00 Byte)\n",
            "_________________________________________________________________\n",
            "Mounted at /content/drive\n"
          ]
        }
      ]
    },
    {
      "cell_type": "markdown",
      "source": [
        "The compilation step"
      ],
      "metadata": {
        "id": "8cUyUjiYCL0C"
      }
    },
    {
      "cell_type": "code",
      "source": [
        "network.compile(optimizer='sgd',\n",
        "                loss='categorical_crossentropy',\n",
        "                metrics=['accuracy'])"
      ],
      "metadata": {
        "id": "pOad7VyRCMk_"
      },
      "execution_count": 5,
      "outputs": []
    },
    {
      "cell_type": "markdown",
      "source": [
        "Preparing the image data"
      ],
      "metadata": {
        "id": "swSUeycJCdhw"
      }
    },
    {
      "cell_type": "code",
      "source": [
        "train_images = train_images.reshape((60000, 28 * 28))\n",
        "train_images = train_images.astype('float32') / 255.\n",
        "test_images = test_images.reshape((10000, 28 * 28))\n",
        "test_images = test_images.astype('float32') / 255."
      ],
      "metadata": {
        "id": "e363110xCfbi"
      },
      "execution_count": 6,
      "outputs": []
    },
    {
      "cell_type": "markdown",
      "source": [
        "Preparing the labels"
      ],
      "metadata": {
        "id": "sP1-NP-CCm7I"
      }
    },
    {
      "cell_type": "code",
      "source": [
        "from keras.utils import to_categorical\n",
        "train_labels = to_categorical(train_labels)\n",
        "train_labels\n",
        "test_labels = to_categorical(test_labels)\n",
        "test_labels\n"
      ],
      "metadata": {
        "colab": {
          "base_uri": "https://localhost:8080/"
        },
        "id": "AaF5z1e4Cnvu",
        "outputId": "9f8b296c-bb74-43d1-c589-4de792ca9e4f"
      },
      "execution_count": 7,
      "outputs": [
        {
          "output_type": "execute_result",
          "data": {
            "text/plain": [
              "array([[0., 0., 0., ..., 1., 0., 0.],\n",
              "       [0., 0., 1., ..., 0., 0., 0.],\n",
              "       [0., 1., 0., ..., 0., 0., 0.],\n",
              "       ...,\n",
              "       [0., 0., 0., ..., 0., 0., 0.],\n",
              "       [0., 0., 0., ..., 0., 0., 0.],\n",
              "       [0., 0., 0., ..., 0., 0., 0.]], dtype=float32)"
            ]
          },
          "metadata": {},
          "execution_count": 7
        }
      ]
    },
    {
      "cell_type": "markdown",
      "source": [
        "Training and Testing"
      ],
      "metadata": {
        "id": "ZhhKa9Y3Czns"
      }
    },
    {
      "cell_type": "code",
      "source": [
        "network.fit(train_images, train_labels, epochs=160, batch_size=512)"
      ],
      "metadata": {
        "colab": {
          "base_uri": "https://localhost:8080/"
        },
        "id": "eZi6lf5FC0e8",
        "outputId": "196621b2-150f-44cc-e4b6-73ed25adff0b"
      },
      "execution_count": 8,
      "outputs": [
        {
          "output_type": "stream",
          "name": "stdout",
          "text": [
            "Epoch 1/160\n",
            "118/118 [==============================] - 1s 5ms/step - loss: 2.3650 - accuracy: 0.0822\n",
            "Epoch 2/160\n",
            "118/118 [==============================] - 1s 4ms/step - loss: 2.3187 - accuracy: 0.1009\n",
            "Epoch 3/160\n",
            "118/118 [==============================] - 0s 4ms/step - loss: 2.2987 - accuracy: 0.1042\n",
            "Epoch 4/160\n",
            "118/118 [==============================] - 0s 4ms/step - loss: 2.2875 - accuracy: 0.1044\n",
            "Epoch 5/160\n",
            "118/118 [==============================] - 0s 4ms/step - loss: 2.2796 - accuracy: 0.1051\n",
            "Epoch 6/160\n",
            "118/118 [==============================] - 0s 4ms/step - loss: 2.2730 - accuracy: 0.1376\n",
            "Epoch 7/160\n",
            "118/118 [==============================] - 1s 5ms/step - loss: 2.2669 - accuracy: 0.1963\n",
            "Epoch 8/160\n",
            "118/118 [==============================] - 1s 5ms/step - loss: 2.2608 - accuracy: 0.2334\n",
            "Epoch 9/160\n",
            "118/118 [==============================] - 0s 4ms/step - loss: 2.2545 - accuracy: 0.2513\n",
            "Epoch 10/160\n",
            "118/118 [==============================] - 0s 4ms/step - loss: 2.2480 - accuracy: 0.2625\n",
            "Epoch 11/160\n",
            "118/118 [==============================] - 1s 5ms/step - loss: 2.2410 - accuracy: 0.2763\n",
            "Epoch 12/160\n",
            "118/118 [==============================] - 1s 6ms/step - loss: 2.2336 - accuracy: 0.2855\n",
            "Epoch 13/160\n",
            "118/118 [==============================] - 1s 6ms/step - loss: 2.2257 - accuracy: 0.2980\n",
            "Epoch 14/160\n",
            "118/118 [==============================] - 1s 7ms/step - loss: 2.2173 - accuracy: 0.3043\n",
            "Epoch 15/160\n",
            "118/118 [==============================] - 1s 6ms/step - loss: 2.2082 - accuracy: 0.3156\n",
            "Epoch 16/160\n",
            "118/118 [==============================] - 1s 7ms/step - loss: 2.1985 - accuracy: 0.3233\n",
            "Epoch 17/160\n",
            "118/118 [==============================] - 1s 7ms/step - loss: 2.1881 - accuracy: 0.3321\n",
            "Epoch 18/160\n",
            "118/118 [==============================] - 1s 5ms/step - loss: 2.1770 - accuracy: 0.3401\n",
            "Epoch 19/160\n",
            "118/118 [==============================] - 1s 4ms/step - loss: 2.1651 - accuracy: 0.3482\n",
            "Epoch 20/160\n",
            "118/118 [==============================] - 1s 5ms/step - loss: 2.1523 - accuracy: 0.3559\n",
            "Epoch 21/160\n",
            "118/118 [==============================] - 1s 5ms/step - loss: 2.1387 - accuracy: 0.3598\n",
            "Epoch 22/160\n",
            "118/118 [==============================] - 1s 5ms/step - loss: 2.1243 - accuracy: 0.3684\n",
            "Epoch 23/160\n",
            "118/118 [==============================] - 1s 5ms/step - loss: 2.1089 - accuracy: 0.3751\n",
            "Epoch 24/160\n",
            "118/118 [==============================] - 1s 5ms/step - loss: 2.0926 - accuracy: 0.3854\n",
            "Epoch 25/160\n",
            "118/118 [==============================] - 1s 4ms/step - loss: 2.0754 - accuracy: 0.3907\n",
            "Epoch 26/160\n",
            "118/118 [==============================] - 0s 4ms/step - loss: 2.0574 - accuracy: 0.3956\n",
            "Epoch 27/160\n",
            "118/118 [==============================] - 0s 4ms/step - loss: 2.0385 - accuracy: 0.4034\n",
            "Epoch 28/160\n",
            "118/118 [==============================] - 0s 4ms/step - loss: 2.0189 - accuracy: 0.4114\n",
            "Epoch 29/160\n",
            "118/118 [==============================] - 0s 4ms/step - loss: 1.9986 - accuracy: 0.4158\n",
            "Epoch 30/160\n",
            "118/118 [==============================] - 0s 4ms/step - loss: 1.9777 - accuracy: 0.4237\n",
            "Epoch 31/160\n",
            "118/118 [==============================] - 0s 4ms/step - loss: 1.9561 - accuracy: 0.4303\n",
            "Epoch 32/160\n",
            "118/118 [==============================] - 0s 4ms/step - loss: 1.9342 - accuracy: 0.4366\n",
            "Epoch 33/160\n",
            "118/118 [==============================] - 0s 4ms/step - loss: 1.9119 - accuracy: 0.4433\n",
            "Epoch 34/160\n",
            "118/118 [==============================] - 0s 4ms/step - loss: 1.8893 - accuracy: 0.4497\n",
            "Epoch 35/160\n",
            "118/118 [==============================] - 0s 4ms/step - loss: 1.8665 - accuracy: 0.4568\n",
            "Epoch 36/160\n",
            "118/118 [==============================] - 0s 4ms/step - loss: 1.8436 - accuracy: 0.4623\n",
            "Epoch 37/160\n",
            "118/118 [==============================] - 1s 4ms/step - loss: 1.8207 - accuracy: 0.4698\n",
            "Epoch 38/160\n",
            "118/118 [==============================] - 1s 6ms/step - loss: 1.7979 - accuracy: 0.4758\n",
            "Epoch 39/160\n",
            "118/118 [==============================] - 1s 6ms/step - loss: 1.7752 - accuracy: 0.4816\n",
            "Epoch 40/160\n",
            "118/118 [==============================] - 1s 6ms/step - loss: 1.7527 - accuracy: 0.4874\n",
            "Epoch 41/160\n",
            "118/118 [==============================] - 1s 6ms/step - loss: 1.7304 - accuracy: 0.4961\n",
            "Epoch 42/160\n",
            "118/118 [==============================] - 1s 7ms/step - loss: 1.7084 - accuracy: 0.5049\n",
            "Epoch 43/160\n",
            "118/118 [==============================] - 1s 6ms/step - loss: 1.6868 - accuracy: 0.5111\n",
            "Epoch 44/160\n",
            "118/118 [==============================] - 0s 4ms/step - loss: 1.6654 - accuracy: 0.5178\n",
            "Epoch 45/160\n",
            "118/118 [==============================] - 0s 4ms/step - loss: 1.6445 - accuracy: 0.5239\n",
            "Epoch 46/160\n",
            "118/118 [==============================] - 0s 4ms/step - loss: 1.6239 - accuracy: 0.5304\n",
            "Epoch 47/160\n",
            "118/118 [==============================] - 0s 4ms/step - loss: 1.6037 - accuracy: 0.5367\n",
            "Epoch 48/160\n",
            "118/118 [==============================] - 0s 4ms/step - loss: 1.5840 - accuracy: 0.5441\n",
            "Epoch 49/160\n",
            "118/118 [==============================] - 1s 4ms/step - loss: 1.5647 - accuracy: 0.5487\n",
            "Epoch 50/160\n",
            "118/118 [==============================] - 1s 4ms/step - loss: 1.5459 - accuracy: 0.5520\n",
            "Epoch 51/160\n",
            "118/118 [==============================] - 1s 4ms/step - loss: 1.5275 - accuracy: 0.5563\n",
            "Epoch 52/160\n",
            "118/118 [==============================] - 1s 5ms/step - loss: 1.5095 - accuracy: 0.5602\n",
            "Epoch 53/160\n",
            "118/118 [==============================] - 0s 4ms/step - loss: 1.4920 - accuracy: 0.5628\n",
            "Epoch 54/160\n",
            "118/118 [==============================] - 0s 4ms/step - loss: 1.4749 - accuracy: 0.5665\n",
            "Epoch 55/160\n",
            "118/118 [==============================] - 1s 4ms/step - loss: 1.4583 - accuracy: 0.5702\n",
            "Epoch 56/160\n",
            "118/118 [==============================] - 1s 5ms/step - loss: 1.4422 - accuracy: 0.5740\n",
            "Epoch 57/160\n",
            "118/118 [==============================] - 1s 5ms/step - loss: 1.4264 - accuracy: 0.5776\n",
            "Epoch 58/160\n",
            "118/118 [==============================] - 1s 4ms/step - loss: 1.4111 - accuracy: 0.5810\n",
            "Epoch 59/160\n",
            "118/118 [==============================] - 1s 4ms/step - loss: 1.3962 - accuracy: 0.5852\n",
            "Epoch 60/160\n",
            "118/118 [==============================] - 1s 5ms/step - loss: 1.3818 - accuracy: 0.5889\n",
            "Epoch 61/160\n",
            "118/118 [==============================] - 1s 5ms/step - loss: 1.3677 - accuracy: 0.5929\n",
            "Epoch 62/160\n",
            "118/118 [==============================] - 1s 5ms/step - loss: 1.3540 - accuracy: 0.5966\n",
            "Epoch 63/160\n",
            "118/118 [==============================] - 1s 7ms/step - loss: 1.3407 - accuracy: 0.6005\n",
            "Epoch 64/160\n",
            "118/118 [==============================] - 1s 6ms/step - loss: 1.3277 - accuracy: 0.6041\n",
            "Epoch 65/160\n",
            "118/118 [==============================] - 1s 6ms/step - loss: 1.3151 - accuracy: 0.6075\n",
            "Epoch 66/160\n",
            "118/118 [==============================] - 1s 6ms/step - loss: 1.3028 - accuracy: 0.6127\n",
            "Epoch 67/160\n",
            "118/118 [==============================] - 1s 6ms/step - loss: 1.2908 - accuracy: 0.6167\n",
            "Epoch 68/160\n",
            "118/118 [==============================] - 1s 6ms/step - loss: 1.2791 - accuracy: 0.6205\n",
            "Epoch 69/160\n",
            "118/118 [==============================] - 0s 4ms/step - loss: 1.2677 - accuracy: 0.6247\n",
            "Epoch 70/160\n",
            "118/118 [==============================] - 0s 4ms/step - loss: 1.2565 - accuracy: 0.6284\n",
            "Epoch 71/160\n",
            "118/118 [==============================] - 0s 4ms/step - loss: 1.2456 - accuracy: 0.6323\n",
            "Epoch 72/160\n",
            "118/118 [==============================] - 0s 4ms/step - loss: 1.2349 - accuracy: 0.6364\n",
            "Epoch 73/160\n",
            "118/118 [==============================] - 0s 4ms/step - loss: 1.2245 - accuracy: 0.6400\n",
            "Epoch 74/160\n",
            "118/118 [==============================] - 0s 4ms/step - loss: 1.2142 - accuracy: 0.6447\n",
            "Epoch 75/160\n",
            "118/118 [==============================] - 0s 4ms/step - loss: 1.2042 - accuracy: 0.6491\n",
            "Epoch 76/160\n",
            "118/118 [==============================] - 0s 4ms/step - loss: 1.1943 - accuracy: 0.6519\n",
            "Epoch 77/160\n",
            "118/118 [==============================] - 0s 3ms/step - loss: 1.1846 - accuracy: 0.6558\n",
            "Epoch 78/160\n",
            "118/118 [==============================] - 0s 4ms/step - loss: 1.1751 - accuracy: 0.6595\n",
            "Epoch 79/160\n",
            "118/118 [==============================] - 1s 4ms/step - loss: 1.1657 - accuracy: 0.6631\n",
            "Epoch 80/160\n",
            "118/118 [==============================] - 1s 7ms/step - loss: 1.1565 - accuracy: 0.6673\n",
            "Epoch 81/160\n",
            "118/118 [==============================] - 1s 7ms/step - loss: 1.1474 - accuracy: 0.6711\n",
            "Epoch 82/160\n",
            "118/118 [==============================] - 1s 6ms/step - loss: 1.1384 - accuracy: 0.6748\n",
            "Epoch 83/160\n",
            "118/118 [==============================] - 1s 8ms/step - loss: 1.1295 - accuracy: 0.6788\n",
            "Epoch 84/160\n",
            "118/118 [==============================] - 1s 7ms/step - loss: 1.1207 - accuracy: 0.6830\n",
            "Epoch 85/160\n",
            "118/118 [==============================] - 1s 9ms/step - loss: 1.1119 - accuracy: 0.6872\n",
            "Epoch 86/160\n",
            "118/118 [==============================] - 2s 13ms/step - loss: 1.1033 - accuracy: 0.6912\n",
            "Epoch 87/160\n",
            "118/118 [==============================] - 1s 12ms/step - loss: 1.0948 - accuracy: 0.6951\n",
            "Epoch 88/160\n",
            "118/118 [==============================] - 1s 10ms/step - loss: 1.0863 - accuracy: 0.6991\n",
            "Epoch 89/160\n",
            "118/118 [==============================] - 1s 10ms/step - loss: 1.0780 - accuracy: 0.7021\n",
            "Epoch 90/160\n",
            "118/118 [==============================] - 1s 8ms/step - loss: 1.0696 - accuracy: 0.7061\n",
            "Epoch 91/160\n",
            "118/118 [==============================] - 1s 5ms/step - loss: 1.0614 - accuracy: 0.7095\n",
            "Epoch 92/160\n",
            "118/118 [==============================] - 0s 4ms/step - loss: 1.0532 - accuracy: 0.7131\n",
            "Epoch 93/160\n",
            "118/118 [==============================] - 0s 4ms/step - loss: 1.0450 - accuracy: 0.7168\n",
            "Epoch 94/160\n",
            "118/118 [==============================] - 0s 4ms/step - loss: 1.0370 - accuracy: 0.7201\n",
            "Epoch 95/160\n",
            "118/118 [==============================] - 0s 4ms/step - loss: 1.0290 - accuracy: 0.7238\n",
            "Epoch 96/160\n",
            "118/118 [==============================] - 0s 4ms/step - loss: 1.0210 - accuracy: 0.7267\n",
            "Epoch 97/160\n",
            "118/118 [==============================] - 0s 4ms/step - loss: 1.0131 - accuracy: 0.7290\n",
            "Epoch 98/160\n",
            "118/118 [==============================] - 0s 4ms/step - loss: 1.0052 - accuracy: 0.7319\n",
            "Epoch 99/160\n",
            "118/118 [==============================] - 0s 4ms/step - loss: 0.9974 - accuracy: 0.7350\n",
            "Epoch 100/160\n",
            "118/118 [==============================] - 0s 4ms/step - loss: 0.9897 - accuracy: 0.7379\n",
            "Epoch 101/160\n",
            "118/118 [==============================] - 1s 5ms/step - loss: 0.9820 - accuracy: 0.7405\n",
            "Epoch 102/160\n",
            "118/118 [==============================] - 1s 4ms/step - loss: 0.9744 - accuracy: 0.7429\n",
            "Epoch 103/160\n",
            "118/118 [==============================] - 0s 4ms/step - loss: 0.9669 - accuracy: 0.7458\n",
            "Epoch 104/160\n",
            "118/118 [==============================] - 1s 4ms/step - loss: 0.9594 - accuracy: 0.7479\n",
            "Epoch 105/160\n",
            "118/118 [==============================] - 1s 5ms/step - loss: 0.9520 - accuracy: 0.7502\n",
            "Epoch 106/160\n",
            "118/118 [==============================] - 1s 4ms/step - loss: 0.9447 - accuracy: 0.7529\n",
            "Epoch 107/160\n",
            "118/118 [==============================] - 1s 5ms/step - loss: 0.9374 - accuracy: 0.7554\n",
            "Epoch 108/160\n",
            "118/118 [==============================] - 1s 5ms/step - loss: 0.9303 - accuracy: 0.7569\n",
            "Epoch 109/160\n",
            "118/118 [==============================] - 1s 7ms/step - loss: 0.9232 - accuracy: 0.7594\n",
            "Epoch 110/160\n",
            "118/118 [==============================] - 1s 7ms/step - loss: 0.9161 - accuracy: 0.7612\n",
            "Epoch 111/160\n",
            "118/118 [==============================] - 1s 7ms/step - loss: 0.9092 - accuracy: 0.7636\n",
            "Epoch 112/160\n",
            "118/118 [==============================] - 1s 7ms/step - loss: 0.9024 - accuracy: 0.7655\n",
            "Epoch 113/160\n",
            "118/118 [==============================] - 1s 7ms/step - loss: 0.8956 - accuracy: 0.7674\n",
            "Epoch 114/160\n",
            "118/118 [==============================] - 1s 6ms/step - loss: 0.8889 - accuracy: 0.7690\n",
            "Epoch 115/160\n",
            "118/118 [==============================] - 1s 4ms/step - loss: 0.8823 - accuracy: 0.7709\n",
            "Epoch 116/160\n",
            "118/118 [==============================] - 0s 4ms/step - loss: 0.8758 - accuracy: 0.7731\n",
            "Epoch 117/160\n",
            "118/118 [==============================] - 0s 4ms/step - loss: 0.8694 - accuracy: 0.7745\n",
            "Epoch 118/160\n",
            "118/118 [==============================] - 0s 4ms/step - loss: 0.8631 - accuracy: 0.7764\n",
            "Epoch 119/160\n",
            "118/118 [==============================] - 0s 4ms/step - loss: 0.8569 - accuracy: 0.7782\n",
            "Epoch 120/160\n",
            "118/118 [==============================] - 0s 4ms/step - loss: 0.8507 - accuracy: 0.7795\n",
            "Epoch 121/160\n",
            "118/118 [==============================] - 0s 4ms/step - loss: 0.8446 - accuracy: 0.7810\n",
            "Epoch 122/160\n",
            "118/118 [==============================] - 0s 4ms/step - loss: 0.8387 - accuracy: 0.7826\n",
            "Epoch 123/160\n",
            "118/118 [==============================] - 1s 4ms/step - loss: 0.8328 - accuracy: 0.7840\n",
            "Epoch 124/160\n",
            "118/118 [==============================] - 1s 5ms/step - loss: 0.8270 - accuracy: 0.7853\n",
            "Epoch 125/160\n",
            "118/118 [==============================] - 1s 4ms/step - loss: 0.8213 - accuracy: 0.7868\n",
            "Epoch 126/160\n",
            "118/118 [==============================] - 0s 4ms/step - loss: 0.8157 - accuracy: 0.7888\n",
            "Epoch 127/160\n",
            "118/118 [==============================] - 1s 4ms/step - loss: 0.8101 - accuracy: 0.7901\n",
            "Epoch 128/160\n",
            "118/118 [==============================] - 1s 5ms/step - loss: 0.8047 - accuracy: 0.7914\n",
            "Epoch 129/160\n",
            "118/118 [==============================] - 1s 5ms/step - loss: 0.7993 - accuracy: 0.7925\n",
            "Epoch 130/160\n",
            "118/118 [==============================] - 1s 5ms/step - loss: 0.7940 - accuracy: 0.7940\n",
            "Epoch 131/160\n",
            "118/118 [==============================] - 1s 5ms/step - loss: 0.7888 - accuracy: 0.7954\n",
            "Epoch 132/160\n",
            "118/118 [==============================] - 1s 5ms/step - loss: 0.7837 - accuracy: 0.7961\n",
            "Epoch 133/160\n",
            "118/118 [==============================] - 1s 6ms/step - loss: 0.7786 - accuracy: 0.7973\n",
            "Epoch 134/160\n",
            "118/118 [==============================] - 1s 7ms/step - loss: 0.7737 - accuracy: 0.7991\n",
            "Epoch 135/160\n",
            "118/118 [==============================] - 1s 7ms/step - loss: 0.7688 - accuracy: 0.8004\n",
            "Epoch 136/160\n",
            "118/118 [==============================] - 1s 9ms/step - loss: 0.7639 - accuracy: 0.8013\n",
            "Epoch 137/160\n",
            "118/118 [==============================] - 1s 7ms/step - loss: 0.7592 - accuracy: 0.8028\n",
            "Epoch 138/160\n",
            "118/118 [==============================] - 1s 7ms/step - loss: 0.7545 - accuracy: 0.8039\n",
            "Epoch 139/160\n",
            "118/118 [==============================] - 1s 7ms/step - loss: 0.7499 - accuracy: 0.8048\n",
            "Epoch 140/160\n",
            "118/118 [==============================] - 1s 6ms/step - loss: 0.7453 - accuracy: 0.8058\n",
            "Epoch 141/160\n",
            "118/118 [==============================] - 1s 7ms/step - loss: 0.7408 - accuracy: 0.8072\n",
            "Epoch 142/160\n",
            "118/118 [==============================] - 1s 6ms/step - loss: 0.7364 - accuracy: 0.8087\n",
            "Epoch 143/160\n",
            "118/118 [==============================] - 1s 6ms/step - loss: 0.7320 - accuracy: 0.8095\n",
            "Epoch 144/160\n",
            "118/118 [==============================] - 0s 4ms/step - loss: 0.7277 - accuracy: 0.8109\n",
            "Epoch 145/160\n",
            "118/118 [==============================] - 0s 4ms/step - loss: 0.7234 - accuracy: 0.8122\n",
            "Epoch 146/160\n",
            "118/118 [==============================] - 1s 4ms/step - loss: 0.7193 - accuracy: 0.8131\n",
            "Epoch 147/160\n",
            "118/118 [==============================] - 1s 5ms/step - loss: 0.7151 - accuracy: 0.8141\n",
            "Epoch 148/160\n",
            "118/118 [==============================] - 1s 4ms/step - loss: 0.7110 - accuracy: 0.8156\n",
            "Epoch 149/160\n",
            "118/118 [==============================] - 0s 4ms/step - loss: 0.7070 - accuracy: 0.8167\n",
            "Epoch 150/160\n",
            "118/118 [==============================] - 1s 4ms/step - loss: 0.7030 - accuracy: 0.8179\n",
            "Epoch 151/160\n",
            "118/118 [==============================] - 1s 5ms/step - loss: 0.6991 - accuracy: 0.8193\n",
            "Epoch 152/160\n",
            "118/118 [==============================] - 1s 4ms/step - loss: 0.6952 - accuracy: 0.8204\n",
            "Epoch 153/160\n",
            "118/118 [==============================] - 0s 4ms/step - loss: 0.6913 - accuracy: 0.8216\n",
            "Epoch 154/160\n",
            "118/118 [==============================] - 1s 4ms/step - loss: 0.6875 - accuracy: 0.8227\n",
            "Epoch 155/160\n",
            "118/118 [==============================] - 1s 5ms/step - loss: 0.6838 - accuracy: 0.8240\n",
            "Epoch 156/160\n",
            "118/118 [==============================] - 0s 4ms/step - loss: 0.6801 - accuracy: 0.8254\n",
            "Epoch 157/160\n",
            "118/118 [==============================] - 0s 4ms/step - loss: 0.6764 - accuracy: 0.8264\n",
            "Epoch 158/160\n",
            "118/118 [==============================] - 1s 5ms/step - loss: 0.6728 - accuracy: 0.8278\n",
            "Epoch 159/160\n",
            "118/118 [==============================] - 1s 4ms/step - loss: 0.6692 - accuracy: 0.8289\n",
            "Epoch 160/160\n",
            "118/118 [==============================] - 1s 7ms/step - loss: 0.6656 - accuracy: 0.8303\n"
          ]
        },
        {
          "output_type": "execute_result",
          "data": {
            "text/plain": [
              "<keras.src.callbacks.History at 0x7d9caae33d90>"
            ]
          },
          "metadata": {},
          "execution_count": 8
        }
      ]
    },
    {
      "cell_type": "code",
      "source": [
        "test_loss, test_acc = network.evaluate(test_images, test_labels)\n",
        "print('Test Accuracy: {:.5f} '.format(test_acc))\n",
        "test_acc"
      ],
      "metadata": {
        "colab": {
          "base_uri": "https://localhost:8080/"
        },
        "id": "4NBUfPNLDhvj",
        "outputId": "4a56d38b-3cbb-40a7-95e3-ea3f3c0b49a5"
      },
      "execution_count": 9,
      "outputs": [
        {
          "output_type": "stream",
          "name": "stdout",
          "text": [
            "313/313 [==============================] - 1s 1ms/step - loss: 0.6518 - accuracy: 0.8357\n",
            "Test Accuracy: 0.83570 \n"
          ]
        },
        {
          "output_type": "execute_result",
          "data": {
            "text/plain": [
              "0.8356999754905701"
            ]
          },
          "metadata": {},
          "execution_count": 9
        }
      ]
    },
    {
      "cell_type": "code",
      "source": [
        "from keras.utils import plot_model\n",
        "plot_model(network, to_file='model.png')\n",
        "import matplotlib.pyplot as plt\n",
        "history =network.fit(train_images, train_labels, validation_split=0.33,epochs=5, batch_size=512)\n",
        "history_dict = history.history\n",
        "print(history_dict.keys())\n",
        "plt.plot(history.history['accuracy'])\n",
        "plt.plot(history.history['val_accuracy'])\n",
        "plt.title('Model accuracy')\n",
        "plt.ylabel('Accuracy')\n",
        "plt.xlabel('Epoch')\n",
        "plt.legend(['Train', 'Test'], loc='upper left')\n",
        "plt.show()\n",
        "\n",
        "\n",
        "# Plot training & validation loss values\n",
        "plt.plot(history.history['loss'])\n",
        "plt.plot(history.history['val_loss'])\n",
        "plt.title('Model loss')\n",
        "plt.ylabel('Loss')\n",
        "plt.xlabel('Epoch')\n",
        "plt.legend(['Train', 'Test'], loc='upper left')\n",
        "plt.show()"
      ],
      "metadata": {
        "colab": {
          "base_uri": "https://localhost:8080/",
          "height": 1000
        },
        "id": "mAFvwWE2DoZe",
        "outputId": "a6a98545-b796-4670-f1eb-eefcb24e9d51"
      },
      "execution_count": 10,
      "outputs": [
        {
          "output_type": "stream",
          "name": "stdout",
          "text": [
            "Epoch 1/5\n",
            "79/79 [==============================] - 1s 11ms/step - loss: 0.6672 - accuracy: 0.8296 - val_loss: 0.6523 - val_accuracy: 0.8339\n",
            "Epoch 2/5\n",
            "79/79 [==============================] - 1s 11ms/step - loss: 0.6648 - accuracy: 0.8306 - val_loss: 0.6501 - val_accuracy: 0.8347\n",
            "Epoch 3/5\n",
            "79/79 [==============================] - 1s 12ms/step - loss: 0.6624 - accuracy: 0.8314 - val_loss: 0.6479 - val_accuracy: 0.8354\n",
            "Epoch 4/5\n",
            "79/79 [==============================] - 1s 8ms/step - loss: 0.6601 - accuracy: 0.8325 - val_loss: 0.6457 - val_accuracy: 0.8359\n",
            "Epoch 5/5\n",
            "79/79 [==============================] - 0s 5ms/step - loss: 0.6577 - accuracy: 0.8330 - val_loss: 0.6435 - val_accuracy: 0.8368\n",
            "dict_keys(['loss', 'accuracy', 'val_loss', 'val_accuracy'])\n"
          ]
        },
        {
          "output_type": "display_data",
          "data": {
            "text/plain": [
              "<Figure size 640x480 with 1 Axes>"
            ],
            "image/png": "[encoded data removed]"
          },
          "metadata": {}
        },
        {
          "output_type": "display_data",
          "data": {
            "text/plain": [
              "<Figure size 640x480 with 1 Axes>"
            ],
            "image/png": "[encoded data removed]"
          },
          "metadata": {}
        }
      ]
    }
  ]
}